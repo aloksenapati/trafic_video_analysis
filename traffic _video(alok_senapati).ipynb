{
 "cells": [
  {
   "cell_type": "code",
   "execution_count": null,
   "metadata": {},
   "outputs": [],
   "source": [
    "import torch\n",
    "print(torch.__version__)"
   ]
  },
  {
   "cell_type": "code",
   "execution_count": null,
   "metadata": {},
   "outputs": [],
   "source": []
  },
  {
   "cell_type": "code",
   "execution_count": null,
   "metadata": {},
   "outputs": [],
   "source": []
  },
  {
   "cell_type": "code",
   "execution_count": null,
   "metadata": {},
   "outputs": [],
   "source": [
    "import cv2\n",
    "from torchvision import models\n",
    "import torch\n",
    "import numpy as np\n",
    "\n",
    "# category of object should be detected here is the list from documentaion itself\n",
    "cats = [\n",
    "    '__background__', 'person', 'bicycle', 'car', 'motorcycle', 'airplane', 'bus',\n",
    "    'train', 'truck', 'boat', 'traffic light', 'fire hydrant', 'N/A', 'stop sign',\n",
    "    'parking meter', 'bench', 'bird', 'cat', 'dog', 'horse', 'sheep', 'cow',\n",
    "    'elephant', 'bear', 'zebra', 'giraffe', 'N/A', 'backpack', 'umbrella', 'N/A', 'N/A',\n",
    "    'handbag', 'tie', 'suitcase', 'frisbee', 'skis', 'snowboard', 'sports ball',\n",
    "    'kite', 'baseball bat', 'baseball glove', 'skateboard', 'surfboard', 'tennis racket',\n",
    "    'bottle', 'N/A', 'wine glass', 'cup', 'fork', 'knife', 'spoon', 'bowl',\n",
    "    'banana', 'apple', 'sandwich', 'orange', 'broccoli', 'carrot', 'hot dog', 'pizza',\n",
    "    'donut', 'cake', 'chair', 'couch', 'potted plant', 'bed', 'N/A', 'dining table',\n",
    "    'N/A', 'N/A', 'toilet', 'N/A', 'tv', 'laptop', 'mouse', 'remote', 'keyboard', 'cell phone',\n",
    "    'microwave', 'oven', 'toaster', 'sink', 'refrigerator', 'N/A', 'book',\n",
    "    'clock', 'vase', 'scissors', 'teddy bear', 'hair drier', 'toothbrush'\n",
    "]\n",
    "\n",
    "\n",
    "#### Defining a function to read the video frame #####\n",
    "def read_img(img):\n",
    "    img=cv2.cvtColor(img,cv2.COLOR_BGR2RGB) #After getting frame coverting frame to \"BGR-->RGB\"\n",
    "    return img\n",
    "\n",
    "def to_tensor(img):\n",
    "    img=torch.tensor(img,dtype=torch.float) # made tensor\n",
    "    img=img.permute(2,0,1)\n",
    "    img=img/img.max()\n",
    "    img=img.unsqueeze(axis=0)\n",
    "    return img\n",
    "\n",
    "def get_plot(preds,thresh,img):      # Made plot per frame getting feed rectangle shape \n",
    "    idx=(preds[0]['scores']>thresh).cpu().numpy()\n",
    "    boxes=preds[0]['boxes'].detach().cpu().numpy()[idx]\n",
    "    labels=preds[0]['labels'].cpu().numpy()[idx]\n",
    "    for box,label in zip(boxes,labels):\n",
    "        xmin,ymin,xmax,ymax=[int(x) for x in box]\n",
    "        img=cv2.rectangle(img,(xmin,ymin),(xmax,ymax),color=(255,0,0), thickness=2)\n",
    "        font=cv2.FONT_HERSHEY_SIMPLEX\n",
    "        img=cv2.putText(img,cats[label],(xmin-1,ymax-1),fontFace=font,\\\n",
    "                        color=(0,255,255),fontScale=0.8,lineType=cv2.LINE_AA,thickness=2)\n",
    "    return img\n",
    "\n",
    "\n",
    "\n",
    "if __name__=='__main__':\n",
    "    device=torch.device(\"cuda:0\" if torch.cuda.is_available() else \"cpu\")\n",
    "    frcnn=models.detection.fasterrcnn_resnet50_fpn(pretrained=True)   # Taken pretrained model\"fasterrcnn_resnet50_fpn\"\n",
    "    frcnn.eval()\n",
    "    frcnn=frcnn.to(device)\n",
    "    path=r'traffic.mp4'    #here is path for video file\n",
    "    cap=cv2.VideoCapture(path)\n",
    "    while True:\n",
    "        \n",
    "        ret,frame=cap.read() \n",
    "        img=read_img(frame)   #taking frame \n",
    "        img_tensor=to_tensor(img)       #made tensor for each frame\n",
    "        img_tensor=img_tensor.to(device)  \n",
    "        preds=frcnn(img_tensor)\n",
    "        im=get_plot(preds,0.50,img)\n",
    "        \n",
    "        cv2.imshow(\"frame\",im)\n",
    "        k=cv2.waitKey(1)\n",
    "        if k==-1:\n",
    "            continue\n",
    "        else:\n",
    "            break\n",
    "                \n",
    "    cap.release()\n",
    "    cv2.destroyAllWindows() \n",
    "        "
   ]
  },
  {
   "cell_type": "code",
   "execution_count": null,
   "metadata": {},
   "outputs": [],
   "source": []
  }
 ],
 "metadata": {
  "kernelspec": {
   "display_name": "Python 3",
   "language": "python",
   "name": "python3"
  },
  "language_info": {
   "codemirror_mode": {
    "name": "ipython",
    "version": 3
   },
   "file_extension": ".py",
   "mimetype": "text/x-python",
   "name": "python",
   "nbconvert_exporter": "python",
   "pygments_lexer": "ipython3",
   "version": "3.8.5"
  }
 },
 "nbformat": 4,
 "nbformat_minor": 2
}
